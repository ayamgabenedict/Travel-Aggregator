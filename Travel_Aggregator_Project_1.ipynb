{
 "cells": [
  {
   "cell_type": "code",
   "execution_count": 2,
   "metadata": {
    "id": "hrEZ7Tx6IFdG"
   },
   "outputs": [],
   "source": [
    "# Import necessary libraries\n",
    "import pandas as pd\n",
    "import numpy as np\n",
    "import matplotlib.pyplot as plt\n",
    "import seaborn as sns"
   ]
  },
  {
   "cell_type": "code",
   "execution_count": 3,
   "metadata": {
    "id": "uG0WIZIhJR5F"
   },
   "outputs": [],
   "source": [
    "# Load 'bookings' dataset\n",
    "bookings = pd.read_csv('Datasets\\Bookings.csv')"
   ]
  },
  {
   "cell_type": "code",
   "execution_count": null,
   "metadata": {},
   "outputs": [],
   "source": [
    "# Inspect first five rows of 'bookings' dataset including column title\n",
    "bookings.head()"
   ]
  },
  {
   "cell_type": "code",
   "execution_count": 5,
   "metadata": {
    "colab": {
     "base_uri": "https://localhost:8080/",
     "height": 162
    },
    "id": "HcW0q4ytYA_t",
    "outputId": "f686ed08-66dc-4215-d411-54d6de81dec8"
   },
   "outputs": [],
   "source": [
    "# Load 'sessions' dataset\n",
    "sessions = pd.read_csv('Datasets\\Sessions.csv')"
   ]
  },
  {
   "cell_type": "code",
   "execution_count": null,
   "metadata": {
    "colab": {
     "base_uri": "https://localhost:8080/",
     "height": 144
    },
    "id": "cB0QkNXuYPtJ",
    "outputId": "770d5dca-9764-4f32-b1fe-f20533c2c97a"
   },
   "outputs": [],
   "source": [
    "# Inspect first five rows of 'sessions' dateset including column title\n",
    "sessions.head()"
   ]
  },
  {
   "cell_type": "markdown",
   "metadata": {
    "id": "GHIPHjtcZYnI"
   },
   "source": [
    "1. Find the number of distinct bookings, sessions, and searches from the given data\n",
    "sets.\n"
   ]
  },
  {
   "cell_type": "code",
   "execution_count": 6,
   "metadata": {
    "id": "7Gj9gJdAZk1F"
   },
   "outputs": [],
   "source": [
    "# To return the number of distinct bookings,  sessions and searches, we will use the \n",
    "# \"nunique() method\" of the pandas DataFrame\n",
    "distinct_bookings = bookings['booking_id'].nunique()\n",
    "distinct_sessions = sessions['session_id'].nunique()\n",
    "distinct_searches = sessions['search_id'].nunique()"
   ]
  },
  {
   "cell_type": "code",
   "execution_count": null,
   "metadata": {
    "colab": {
     "base_uri": "https://localhost:8080/"
    },
    "id": "imBpGzkDcRHd",
    "outputId": "6a00a4a3-a075-4770-8c2e-bbe9fa7302ab"
   },
   "outputs": [],
   "source": [
    "# Print out the number of distinct bookings, sessions and searches. \n",
    "print(f\"Number of Distinct Bookings: {distinct_bookings}\")\n",
    "print(f\"Number of Distinct Sessions: {distinct_sessions}\")\n",
    "print(f\"Number of Distinct Searches: {distinct_searches}\")"
   ]
  },
  {
   "cell_type": "markdown",
   "metadata": {
    "id": "4TgRF2Bkc6sY"
   },
   "source": [
    "2. How many sessions have more than one booking?"
   ]
  },
  {
   "cell_type": "code",
   "execution_count": null,
   "metadata": {
    "colab": {
     "base_uri": "https://localhost:8080/"
    },
    "id": "wbX9kd3Wc_m-",
    "outputId": "d247bc23-ae59-414a-9f55-956e9f4808d4"
   },
   "outputs": [],
   "source": [
    "# First, we will group the bookings by session_id and then count the number of unique bookings in each session\n",
    "bookings_per_session = sessions.groupby('session_id')['booking_id'].nunique()\n",
    "\n",
    "# Secondly, we will filter out sessions where the count of bookings < 1\n",
    "sessions_with_multiple_bookings = bookings_per_session[bookings_per_session > 1]\n",
    "\n",
    "# Thirdly, we will then get the count of these sessions\n",
    "number_of_sessions_with_multiple_bookings = sessions_with_multiple_bookings.count()\n",
    "\n",
    "# Now, let's print out the final result\n",
    "print(f\"The total number of sessions with more than one booking: {number_of_sessions_with_multiple_bookings}\")\n"
   ]
  },
  {
   "cell_type": "markdown",
   "metadata": {
    "id": "D0Y9ERLngJgj"
   },
   "source": [
    "3. Which days of the week have the highest number of bookings? Also, draw a pie\n",
    "chart to show the distribution for all days of the week?"
   ]
  },
  {
   "cell_type": "code",
   "execution_count": null,
   "metadata": {
    "colab": {
     "base_uri": "https://localhost:8080/",
     "height": 872
    },
    "id": "XMHu4EWGgL6G",
    "outputId": "c6c545e6-ecc1-4656-98f1-2aa0e6714f12"
   },
   "outputs": [],
   "source": [
    "# Let's convert the 'booking_time' to datetime format\n",
    "bookings['booking_time'] = pd.to_datetime(bookings['booking_time'])\n",
    "\n",
    "# Extract the day of the week from the 'booking_time'\n",
    "bookings['day_of_week'] = bookings['booking_time'].dt.day_name()\n",
    "\n",
    "# Count the number of bookings for each day of the week\n",
    "bookings_per_day = bookings['day_of_week'].value_counts()\n",
    "\n",
    "# Find the day(s) with the highest number of bookings\n",
    "highest_bookings_day = bookings_per_day.idxmax()\n",
    "print(\"Booking counts for all days of the week:\")\n",
    "print(f\"{bookings_per_day} \\n\")\n",
    "print(f\"The day with the highest number of bookings: {highest_bookings_day} \\n\")\n",
    "\n",
    "\n",
    "# Plot a pie chart for the distribution of bookings across all days\n",
    "plt.figure(figsize=(6, 6))\n",
    "bookings_per_day.plot.pie(autopct='%1.1f%%', startangle=90, explode = (0.3, 0, 0, 0, 0,0, 0), colors=['#ff9999', '#66b3ff', '#99ff99', '#ffcc99', '#ff9864', '#73B22D', '#FF7800', '#5f5d60'])\n",
    "plt.title(\"Distribution of Bookings by Day of the Week\")\n",
    "plt.ylabel(\"\")  # Remove y-axis label for better aesthetics\n",
    "plt.show()"
   ]
  },
  {
   "cell_type": "markdown",
   "metadata": {
    "id": "Xew5q8NBr8-q"
   },
   "source": [
    "4. For each of the service names, display the total number of bookings and the total\n",
    "Gross Booking Value in INR."
   ]
  },
  {
   "cell_type": "code",
   "execution_count": null,
   "metadata": {
    "colab": {
     "base_uri": "https://localhost:8080/"
    },
    "id": "NYQfswkpr5bo",
    "outputId": "c35179a9-64e8-459c-df46-d4bdfca2e1a4"
   },
   "outputs": [],
   "source": [
    "# Group by 'service_name' and calculate total bookings and total INR_Amount\n",
    "service_summary = bookings.groupby('service_name').agg(\n",
    "    Num_of_bookings=('booking_id', 'count'),\n",
    "    total_gross_value=('INR_Amount', 'sum')\n",
    ").reset_index()\n",
    "\n",
    "# Display the summary\n",
    "print(\"Service Name Summary:\")\n",
    "print(service_summary)\n"
   ]
  },
  {
   "cell_type": "markdown",
   "metadata": {
    "id": "bfWi0wlWxXyv"
   },
   "source": [
    "5.  For customers who have more than 1 booking, which is the most booked route\n",
    "(from_city to to_city)?"
   ]
  },
  {
   "cell_type": "code",
   "execution_count": null,
   "metadata": {
    "colab": {
     "base_uri": "https://localhost:8080/"
    },
    "id": "O-_-UgqExZVB",
    "outputId": "fca02d3d-66b8-41c0-9c28-ae546a927fbe"
   },
   "outputs": [],
   "source": [
    "# Group by 'customer_id' and count the number of bookings for each customer\n",
    "customer_booking_counts = bookings.groupby('customer_id')['booking_id'].count()\n",
    "\n",
    "\n",
    "# Filter for customers with more than 1 booking\n",
    "customers_with_multiple_bookings = customer_booking_counts[customer_booking_counts > 1].index\n",
    "\n",
    "\n",
    "# Filter the bookings data to include only these customers\n",
    "filtered_bookings = bookings[bookings['customer_id'].isin(customers_with_multiple_bookings)].copy()\n",
    "\n",
    "# Create a route column combining 'from_city' and 'to_city' using .loc\n",
    "filtered_bookings.loc[:, 'route'] = filtered_bookings['from_city'] + \" to \" + filtered_bookings['to_city']\n",
    "\n",
    "# Find the most booked route\n",
    "most_booked_route = filtered_bookings['route'].value_counts().idxmax()\n",
    "\n",
    "# Print the result\n",
    "print(f\"The most booked route among customers with more than 1 booking is: {most_booked_route}\")\n"
   ]
  },
  {
   "cell_type": "markdown",
   "metadata": {
    "id": "ZfWOlRVlzB4k"
   },
   "source": [
    "6. Which are the top 3 departure cities from where customers book mostly in advance,\n",
    "provided that there have been at least 5 departures from that city?"
   ]
  },
  {
   "cell_type": "code",
   "execution_count": null,
   "metadata": {
    "colab": {
     "base_uri": "https://localhost:8080/"
    },
    "id": "w8kI5anRzFGb",
    "outputId": "589e282e-af19-4c6f-8d70-339ef0e158a0"
   },
   "outputs": [],
   "source": [
    "# Group by departure city\n",
    "grouped_by_dep_city=bookings.groupby(['to_city']).agg({'days_to_departure':['mean', 'count']}).reset_index()\n",
    "\n",
    "# Label column headings\n",
    "grouped_by_dep_city.columns=['DepCity', 'Avg_days_to_dep', 'Total_departures']\n",
    "\n",
    "# Display the result\n",
    "print(\"Top 3 departure cities where customers book mostly in advance (with at least 5 departures):\")\n",
    "print(grouped_by_dep_city[grouped_by_dep_city['Total_departures']>=5].sort_values('Avg_days_to_dep', ascending=False).head(3))\n"
   ]
  },
  {
   "cell_type": "markdown",
   "metadata": {
    "id": "peZUGVyZzfFB"
   },
   "source": [
    "7. Plot a heatmap displaying correlations of the numerical column and report which\n",
    "pair of numerical columns in the bookings data set, have the maximum correlation?"
   ]
  },
  {
   "cell_type": "code",
   "execution_count": null,
   "metadata": {
    "colab": {
     "base_uri": "https://localhost:8080/",
     "height": 735
    },
    "id": "6c7gPbQRzlJm",
    "outputId": "eb693018-98a4-485d-ed60-b91ec1ade1de"
   },
   "outputs": [],
   "source": [
    "# let's select the numerical columns from the bookings dataset for our correlation analysis\n",
    "numerical_columns = bookings.select_dtypes(include=['float64']).columns\n",
    "\n",
    "# Let us compute the correlation matrix for the selected numerical columns\n",
    "correlation_matrix = bookings[numerical_columns].corr()\n",
    "\n",
    "# Now, let's plot the heatmap of our correlation matrix\n",
    "plt.figure(figsize=(6, 6))\n",
    "sns.heatmap(correlation_matrix, annot=True, vmax=1, vmin=-1, cmap='coolwarm', fmt='.2f', linewidths=0.5)\n",
    "plt.title(\"Heatmap showing Correlation of Numerical Columns in the Bookings Dataset\")\n",
    "plt.show()\n",
    "\n",
    "# Let's find the pair of numerical columns with the maximum correlation\n",
    "max_corr_value = correlation_matrix.where(~correlation_matrix.isna()).unstack().max()\n",
    "max_corr_pair = correlation_matrix.stack().idxmax()\n",
    "\n",
    "# Display the result\n",
    "print(f\"The pair of numerical columns with the maximum correlation is: {max_corr_pair}\")\n",
    "print(f\"Maximum correlation value: {max_corr_value}\")\n"
   ]
  },
  {
   "cell_type": "markdown",
   "metadata": {
    "id": "eQkj6KuCzxEy"
   },
   "source": [
    "8. For each service, which is the most used device type for making bookings on the\n",
    "platform?"
   ]
  },
  {
   "cell_type": "code",
   "execution_count": null,
   "metadata": {
    "colab": {
     "base_uri": "https://localhost:8080/"
    },
    "id": "NzlxHo6Fz2GC",
    "outputId": "6a7b24a8-a216-418a-fd6a-1159eac6208a"
   },
   "outputs": [],
   "source": [
    "# Group by 'service_name' and 'device_type_used' and count the number of bookings for each combination\n",
    "device_usage_per_service = bookings.groupby(['service_name', 'device_type_used'])['booking_id'].count()\n",
    "\n",
    "# For each service, find the device type with the maximum count of bookings\n",
    "most_used_device_per_service = device_usage_per_service.groupby('service_name').idxmax()\n",
    "\n",
    "# Display the result\n",
    "print(\"Most used device type for each service:\")\n",
    "print(most_used_device_per_service)\n"
   ]
  },
  {
   "cell_type": "markdown",
   "metadata": {
    "id": "ry3JhQCc0fHk"
   },
   "source": [
    "9. Plot the trends at a quarterly frequency for the number of bookings by each of the\n",
    "device types, that is, plot a time series for each year and quarter showing the\n",
    "number of bookings performed by each device type."
   ]
  },
  {
   "cell_type": "code",
   "execution_count": null,
   "metadata": {
    "colab": {
     "base_uri": "https://localhost:8080/",
     "height": 505
    },
    "id": "PZqRbjXI0mPv",
    "outputId": "388b0e67-ed38-48b8-e5f1-bc27d4f0a5af"
   },
   "outputs": [],
   "source": [
    "# Ensure 'booking_time' is timezone-naive before converting to a period\n",
    "\n",
    "bookings['booking_time'] = pd.to_datetime(bookings['booking_time']).dt.tz_localize(None)\n",
    "\n",
    "# Extract year and quarter from 'booking_time'\n",
    "bookings['year_quarter'] = bookings['booking_time'].dt.to_period('Q')\n",
    "\n",
    "# Group by 'year_quarter' and 'device_type_used', and count the number of bookings\n",
    "bookings_by_device = bookings.groupby(['year_quarter', 'device_type_used'])['booking_id'].count().unstack()\n",
    "\n",
    "# View the first few rows of results\n",
    "bookings[['year_quarter', 'booking_id', 'device_type_used']].head()\n"
   ]
  },
  {
   "cell_type": "code",
   "execution_count": null,
   "metadata": {},
   "outputs": [],
   "source": [
    "# Now let's plot the Time series for each year and quarter showing the number of bookings performed by each device type.\n",
    "\n",
    "bookings_by_device = bookings.groupby(['year_quarter', 'device_type_used'])['booking_id'].count().unstack()\n",
    "# Check if there is data to plot\n",
    "if not bookings_by_device.empty:\n",
    "    plt.figure(figsize=(10, 6))\n",
    "    bookings_by_device.plot(kind='line', marker='o')\n",
    "    plt.title('Quarterly Trends of Bookings by Device Type')\n",
    "    plt.xlabel('Year and Quarter')\n",
    "    plt.ylabel('Number of Bookings')\n",
    "    plt.grid(True)\n",
    "    plt.legend(title='Device Type')\n",
    "    plt.xticks(rotation=45)\n",
    "    plt.tight_layout()\n",
    "    plt.show()\n",
    "else:\n",
    "    print(\"No data available to plot.\")\n"
   ]
  },
  {
   "cell_type": "markdown",
   "metadata": {},
   "source": [
    "10. Consider the following example:\n",
    "\n",
    "    12 customers performed a total of 100 searches but only a few of them performed 10 bookings in total. <br><br>\n",
    "        Searches = 100 &nbsp;&nbsp;&nbsp;\n",
    "        bookings = 10 &nbsp;&nbsp;&nbsp;\n",
    "        customers = 12\n",
    "        \n",
    "    The overall booking to search ratio, Ober, is 10/100 = 0.1 <br>\n",
    "    Using the above information/context, answer the following:<br>\n",
    "&nbsp;&nbsp;&nbsp;  • What is the average oBSR for each month of the year?<br>\n",
    "&nbsp;&nbsp;&nbsp;  • What is the average oBSR for each day of the week?<br>\n",
    "&nbsp;&nbsp;&nbsp;  • Plot a time series of oBSR on all the given dates.\n"
   ]
  },
  {
   "cell_type": "code",
   "execution_count": 16,
   "metadata": {
    "colab": {
     "base_uri": "https://localhost:8080/",
     "height": 383
    },
    "id": "2-NuR9gd7COu",
    "outputId": "b8c0124d-7f48-4d2e-df76-14dd2d826c20"
   },
   "outputs": [],
   "source": [
    "# Convert 'booking_time' and 'search_time' to datetime format\n",
    "bookings['booking_time']=pd.to_datetime(bookings['booking_time'], format='ISO8601')\n",
    "sessions['search_time']=pd.to_datetime(sessions['search_time'], format='ISO8601')\n",
    "\n",
    "# Count searches per day for each day (assuming there's a 'search_time')\n",
    "search_counts = sessions.groupby(sessions['search_time'].dt.date)['search_id'].count()\n",
    "\n",
    "# Count bookings per day for each day (assuming there's a 'booking_time')\n",
    "booking_counts = bookings.groupby(bookings['booking_time'].dt.date)['booking_id'].count()\n",
    "\n",
    "# Merge the booking counts and search counts by date\n",
    "merged_counts = pd.DataFrame({\n",
    "    'searches': search_counts,\n",
    "    'bookings': booking_counts\n",
    "}).fillna(0)  # Fill NaNs with 0 if no searches/bookings occurred on a given day\n",
    "\n",
    "# Calculate oBSR for each day (Booking-to-Search Ratio)\n",
    "merged_counts['oBSR'] = merged_counts['bookings'] / merged_counts['searches']"
   ]
  },
  {
   "cell_type": "markdown",
   "metadata": {
    "id": "E533OdDl3h5Y"
   },
   "source": [
    "10.a. What is the average oBSR for each month of the year?"
   ]
  },
  {
   "cell_type": "code",
   "execution_count": null,
   "metadata": {
    "colab": {
     "base_uri": "https://localhost:8080/",
     "height": 383
    },
    "id": "N7QQ3vSi3MRW",
    "outputId": "c27985b2-749a-4e8b-fd0d-f799e17b4bf1"
   },
   "outputs": [],
   "source": [
    "merged_counts['month'] = pd.to_datetime(merged_counts.index).month_name()\n",
    "average_oBSR_month = merged_counts.groupby('month')['oBSR'].mean()\n",
    "\n",
    "print(\"Average oBSR for each month of the year:\")\n",
    "print(average_oBSR_month)"
   ]
  },
  {
   "cell_type": "markdown",
   "metadata": {
    "id": "3f76WEof3wu0"
   },
   "source": [
    "10.b.  What is the average oBSR for each day of the week?"
   ]
  },
  {
   "cell_type": "code",
   "execution_count": null,
   "metadata": {
    "id": "q9KmGg383QDa"
   },
   "outputs": [],
   "source": [
    "merged_counts['day_of_week'] = pd.to_datetime(merged_counts.index).day_name()\n",
    "average_oBSR_weekday = merged_counts.groupby('day_of_week')['oBSR'].mean()\n",
    "\n",
    "print(\"\\nAverage oBSR for each day of the week:\")\n",
    "print(average_oBSR_weekday)"
   ]
  },
  {
   "cell_type": "markdown",
   "metadata": {
    "id": "8ylvDRi34J7-"
   },
   "source": [
    "10.c. Plot a time series of oBSR on all the given dates."
   ]
  },
  {
   "cell_type": "code",
   "execution_count": null,
   "metadata": {
    "id": "cEZDmRJX3ZZW"
   },
   "outputs": [],
   "source": [
    "\n",
    "plt.figure(figsize=(10, 6))\n",
    "merged_counts['oBSR'].plot(kind='line', marker='o')\n",
    "plt.title('Time Series of Booking to Search Ratio (oBSR)')\n",
    "plt.xlabel('Date')\n",
    "plt.ylabel('oBSR (Booking to Search Ratio)')\n",
    "plt.grid(True)\n",
    "plt.xticks(rotation=45)\n",
    "plt.tight_layout()\n",
    "plt.show()"
   ]
  }
 ],
 "metadata": {
  "colab": {
   "provenance": []
  },
  "kernelspec": {
   "display_name": "venv",
   "language": "python",
   "name": "python3"
  },
  "language_info": {
   "codemirror_mode": {
    "name": "ipython",
    "version": 3
   },
   "file_extension": ".py",
   "mimetype": "text/x-python",
   "name": "python",
   "nbconvert_exporter": "python",
   "pygments_lexer": "ipython3",
   "version": "3.11.4"
  }
 },
 "nbformat": 4,
 "nbformat_minor": 0
}
